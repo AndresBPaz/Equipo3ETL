{
 "cells": [
  {
   "cell_type": "code",
   "execution_count": 20,
   "id": "82376b3f",
   "metadata": {},
   "outputs": [],
   "source": [
    "import pandas as pd\n",
    "import openpyxl\n",
    "from pathlib import Path"
   ]
  },
  {
   "cell_type": "code",
   "execution_count": 21,
   "id": "912285cb",
   "metadata": {},
   "outputs": [],
   "source": [
    "#This function is to extract data from xslx file that we have in data folder\n",
    "def extract_data_from_xslx(sheet_name=None):\n",
    "    df = pd.read_excel(sheet_name, engine=\"openpyxl\", header=0)\n",
    "    return df"
   ]
  },
  {
   "cell_type": "code",
   "execution_count": 22,
   "id": "3ec33f0f",
   "metadata": {},
   "outputs": [],
   "source": [
    "#This function is to clean column names of a dataframe\n",
    "def clean_column_names(df):\n",
    "    df.columns = df.columns.str.strip().str.lower().str.replace(\" \", \"_\").str.replace(\"(\", \"\").str.replace(\")\", \"\")\n",
    "    return df"
   ]
  },
  {
   "cell_type": "code",
   "execution_count": 23,
   "id": "f42d0293",
   "metadata": {},
   "outputs": [],
   "source": [
    "#Function to delete specific columns from a dataframe\n",
    "def delete_columns(df, columns_to_delete):\n",
    "    df = df.drop(columns=columns_to_delete)\n",
    "    return df"
   ]
  },
  {
   "cell_type": "code",
   "execution_count": 24,
   "id": "160b14d3",
   "metadata": {},
   "outputs": [],
   "source": [
    "def filter_rows_by_value(df, column_name, value, comparison_type='equals'):\n",
    "    if comparison_type == 'equals':\n",
    "        filtered_df = df[df[column_name] == value]\n",
    "    elif comparison_type == 'not_equals':\n",
    "        filtered_df = df[df[column_name] != value]\n",
    "    elif comparison_type == 'greater_than':\n",
    "        filtered_df = df[df[column_name] > value]\n",
    "    elif comparison_type == 'less_than':\n",
    "        filtered_df = df[df[column_name] < value]\n",
    "    else:\n",
    "        raise ValueError(\"Invalid comparison_type. Use 'equals', 'not_equals', 'greater_than', or 'less_than'.\")\n",
    "    return filtered_df"
   ]
  },
  {
   "cell_type": "code",
   "execution_count": 18,
   "id": "a3d73188",
   "metadata": {},
   "outputs": [],
   "source": [
    "#Main function to call the other functions\n",
    "\n",
    "df_abastecimientos = extract_data_from_xslx(\"./Data/abastecimientos_sap.xlsx\")\n",
    "df_actividades = extract_data_from_xslx(\"./Data/actividades.xlsx\")\n",
    "df_insumos = extract_data_from_xslx(\"./Data/detalle_apuntamiento_insumos.xlsx\")\n",
    "df_rep_maquinaria = extract_data_from_xslx(\"./Data/rep_maquinaria.xlsx\")\n"
   ]
  },
  {
   "cell_type": "code",
   "execution_count": 27,
   "id": "995a99cb",
   "metadata": {},
   "outputs": [
    {
     "data": {
      "text/html": [
       "<div>\n",
       "<style scoped>\n",
       "    .dataframe tbody tr th:only-of-type {\n",
       "        vertical-align: middle;\n",
       "    }\n",
       "\n",
       "    .dataframe tbody tr th {\n",
       "        vertical-align: top;\n",
       "    }\n",
       "\n",
       "    .dataframe thead th {\n",
       "        text-align: right;\n",
       "    }\n",
       "</style>\n",
       "<table border=\"1\" class=\"dataframe\">\n",
       "  <thead>\n",
       "    <tr style=\"text-align: right;\">\n",
       "      <th></th>\n",
       "      <th>equipo</th>\n",
       "      <th>fecha</th>\n",
       "      <th>galones</th>\n",
       "    </tr>\n",
       "  </thead>\n",
       "  <tbody>\n",
       "    <tr>\n",
       "      <th>0</th>\n",
       "      <td>TRC1-7548</td>\n",
       "      <td>2025-09-09</td>\n",
       "      <td>-157.233</td>\n",
       "    </tr>\n",
       "    <tr>\n",
       "      <th>1</th>\n",
       "      <td>CTA1-8552</td>\n",
       "      <td>2025-09-09</td>\n",
       "      <td>-15.535</td>\n",
       "    </tr>\n",
       "    <tr>\n",
       "      <th>2</th>\n",
       "      <td>TRC1-7249</td>\n",
       "      <td>2025-09-09</td>\n",
       "      <td>-19.917</td>\n",
       "    </tr>\n",
       "    <tr>\n",
       "      <th>3</th>\n",
       "      <td>TRC1-7246</td>\n",
       "      <td>2025-09-09</td>\n",
       "      <td>-15.366</td>\n",
       "    </tr>\n",
       "    <tr>\n",
       "      <th>4</th>\n",
       "      <td>TRC1-7406</td>\n",
       "      <td>2025-09-09</td>\n",
       "      <td>-30.280</td>\n",
       "    </tr>\n",
       "  </tbody>\n",
       "</table>\n",
       "</div>"
      ],
      "text/plain": [
       "      equipo      fecha  galones\n",
       "0  TRC1-7548 2025-09-09 -157.233\n",
       "1  CTA1-8552 2025-09-09  -15.535\n",
       "2  TRC1-7249 2025-09-09  -19.917\n",
       "3  TRC1-7246 2025-09-09  -15.366\n",
       "4  TRC1-7406 2025-09-09  -30.280"
      ]
     },
     "metadata": {},
     "output_type": "display_data"
    }
   ],
   "source": [
    "df_abastecimientos = extract_data_from_xslx(\"./Data/abastecimientos_sap.xlsx\")\n",
    "clean_column_names(df_abastecimientos)\n",
    "\n",
    "\n",
    "#Con este filtrado, se eliminan tambien los vacios de la columna de equipo\n",
    "df_abastecimientos = filter_rows_by_value(df_abastecimientos, 'clase_de_movimiento', 261)\n",
    "\n",
    "df_abastecimientos = filter_rows_by_value(df_abastecimientos, 'centro_de_coste', 2000000, 'less_than')\n",
    "    \n",
    "#Eliminar columnas innecesarias para el dataframe de abastecimientos\n",
    "innecesary_columns = ['material', 'texto_breve_de_material', 'almacén', 'clase_de_movimiento', 'posición_doc.mat.',\n",
    "                          'nº_reserva', 'centro_de_coste', 'un.medida_de_entrada']\n",
    "for column in innecesary_columns:\n",
    "    if column in df_abastecimientos.columns:\n",
    "        df_abastecimientos = delete_columns(df_abastecimientos, [column])\n",
    "\n",
    "df_abastecimientos.rename(columns={'fe.contabilización': 'fecha'}, inplace=True)\n",
    "df_abastecimientos.rename(columns={'orden': 'equipo'}, inplace=True)\n",
    "df_abastecimientos.rename(columns={'ctd.en_um_entrada': 'galones'}, inplace=True)\n",
    "\n",
    "#eliminar los tres primeros caracteres del equipo\n",
    "df_abastecimientos['equipo'] = df_abastecimientos['equipo'].astype(str).str[3:]\n",
    "\n",
    "display(df_abastecimientos.head())"
   ]
  },
  {
   "cell_type": "code",
   "execution_count": null,
   "id": "c03d73fd",
   "metadata": {},
   "outputs": [],
   "source": []
  }
 ],
 "metadata": {
  "kernelspec": {
   "display_name": "Python 3",
   "language": "python",
   "name": "python3"
  },
  "language_info": {
   "codemirror_mode": {
    "name": "ipython",
    "version": 3
   },
   "file_extension": ".py",
   "mimetype": "text/x-python",
   "name": "python",
   "nbconvert_exporter": "python",
   "pygments_lexer": "ipython3",
   "version": "3.13.7"
  }
 },
 "nbformat": 4,
 "nbformat_minor": 5
}
